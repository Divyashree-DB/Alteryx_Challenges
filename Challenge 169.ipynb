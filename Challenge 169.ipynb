{
 "cells": [
  {
   "cell_type": "code",
   "execution_count": 197,
   "metadata": {},
   "outputs": [],
   "source": [
    "import pandas as pd"
   ]
  },
  {
   "cell_type": "code",
   "execution_count": 198,
   "metadata": {},
   "outputs": [],
   "source": [
    "df=pd.read_csv(\"womens_world_cup_data.txt\", encoding=\"latin-1\", sep=\"\\t\")"
   ]
  },
  {
   "cell_type": "code",
   "execution_count": 199,
   "metadata": {},
   "outputs": [
    {
     "data": {
      "text/html": [
       "<div>\n",
       "<style scoped>\n",
       "    .dataframe tbody tr th:only-of-type {\n",
       "        vertical-align: middle;\n",
       "    }\n",
       "\n",
       "    .dataframe tbody tr th {\n",
       "        vertical-align: top;\n",
       "    }\n",
       "\n",
       "    .dataframe thead th {\n",
       "        text-align: right;\n",
       "    }\n",
       "</style>\n",
       "<table border=\"1\" class=\"dataframe\">\n",
       "  <thead>\n",
       "    <tr style=\"text-align: right;\">\n",
       "      <th></th>\n",
       "      <th>Team_i</th>\n",
       "      <th>Team_j</th>\n",
       "      <th>home_i</th>\n",
       "      <th>home_j</th>\n",
       "      <th>score_i</th>\n",
       "      <th>score_j</th>\n",
       "      <th>date</th>\n",
       "    </tr>\n",
       "  </thead>\n",
       "  <tbody>\n",
       "    <tr>\n",
       "      <th>0</th>\n",
       "      <td>china</td>\n",
       "      <td>thailand</td>\n",
       "      <td>0</td>\n",
       "      <td>0</td>\n",
       "      <td>4</td>\n",
       "      <td>0</td>\n",
       "      <td>6 April 2018</td>\n",
       "    </tr>\n",
       "    <tr>\n",
       "      <th>1</th>\n",
       "      <td>jordan</td>\n",
       "      <td>philippines</td>\n",
       "      <td>1</td>\n",
       "      <td>0</td>\n",
       "      <td>1</td>\n",
       "      <td>2</td>\n",
       "      <td>6 April 2018</td>\n",
       "    </tr>\n",
       "    <tr>\n",
       "      <th>2</th>\n",
       "      <td>philippines</td>\n",
       "      <td>china</td>\n",
       "      <td>0</td>\n",
       "      <td>0</td>\n",
       "      <td>0</td>\n",
       "      <td>3</td>\n",
       "      <td>9 April 2018</td>\n",
       "    </tr>\n",
       "    <tr>\n",
       "      <th>3</th>\n",
       "      <td>thailand</td>\n",
       "      <td>jordan</td>\n",
       "      <td>0</td>\n",
       "      <td>1</td>\n",
       "      <td>6</td>\n",
       "      <td>1</td>\n",
       "      <td>9 April 2018</td>\n",
       "    </tr>\n",
       "    <tr>\n",
       "      <th>4</th>\n",
       "      <td>jordan</td>\n",
       "      <td>china</td>\n",
       "      <td>1</td>\n",
       "      <td>0</td>\n",
       "      <td>1</td>\n",
       "      <td>8</td>\n",
       "      <td>12 April 2018</td>\n",
       "    </tr>\n",
       "    <tr>\n",
       "      <th>...</th>\n",
       "      <td>...</td>\n",
       "      <td>...</td>\n",
       "      <td>...</td>\n",
       "      <td>...</td>\n",
       "      <td>...</td>\n",
       "      <td>...</td>\n",
       "      <td>...</td>\n",
       "    </tr>\n",
       "    <tr>\n",
       "      <th>320</th>\n",
       "      <td>spain</td>\n",
       "      <td>south africa</td>\n",
       "      <td>0</td>\n",
       "      <td>0</td>\n",
       "      <td>3</td>\n",
       "      <td>1</td>\n",
       "      <td>8-Jun-19</td>\n",
       "    </tr>\n",
       "    <tr>\n",
       "      <th>321</th>\n",
       "      <td>norway</td>\n",
       "      <td>nigeria</td>\n",
       "      <td>0</td>\n",
       "      <td>0</td>\n",
       "      <td>3</td>\n",
       "      <td>0</td>\n",
       "      <td>8-Jun-19</td>\n",
       "    </tr>\n",
       "    <tr>\n",
       "      <th>322</th>\n",
       "      <td>australia</td>\n",
       "      <td>italy</td>\n",
       "      <td>0</td>\n",
       "      <td>0</td>\n",
       "      <td>1</td>\n",
       "      <td>2</td>\n",
       "      <td>9-Jun-19</td>\n",
       "    </tr>\n",
       "    <tr>\n",
       "      <th>323</th>\n",
       "      <td>brazil</td>\n",
       "      <td>jamaica</td>\n",
       "      <td>0</td>\n",
       "      <td>0</td>\n",
       "      <td>3</td>\n",
       "      <td>0</td>\n",
       "      <td>9-Jun-19</td>\n",
       "    </tr>\n",
       "    <tr>\n",
       "      <th>324</th>\n",
       "      <td>england</td>\n",
       "      <td>scotland</td>\n",
       "      <td>0</td>\n",
       "      <td>0</td>\n",
       "      <td>2</td>\n",
       "      <td>1</td>\n",
       "      <td>9-Jun-19</td>\n",
       "    </tr>\n",
       "  </tbody>\n",
       "</table>\n",
       "<p>325 rows × 7 columns</p>\n",
       "</div>"
      ],
      "text/plain": [
       "          Team_i        Team_j  home_i  home_j  score_i  score_j  \\\n",
       "0          china      thailand       0       0        4        0   \n",
       "1         jordan   philippines       1       0        1        2   \n",
       "2    philippines         china       0       0        0        3   \n",
       "3       thailand        jordan       0       1        6        1   \n",
       "4         jordan         china       1       0        1        8   \n",
       "..           ...           ...     ...     ...      ...      ...   \n",
       "320        spain  south africa       0       0        3        1   \n",
       "321       norway       nigeria       0       0        3        0   \n",
       "322    australia         italy       0       0        1        2   \n",
       "323       brazil       jamaica       0       0        3        0   \n",
       "324      england      scotland       0       0        2        1   \n",
       "\n",
       "              date  \n",
       "0     6 April 2018  \n",
       "1     6 April 2018  \n",
       "2     9 April 2018  \n",
       "3     9 April 2018  \n",
       "4    12 April 2018  \n",
       "..             ...  \n",
       "320       8-Jun-19  \n",
       "321       8-Jun-19  \n",
       "322       9-Jun-19  \n",
       "323       9-Jun-19  \n",
       "324       9-Jun-19  \n",
       "\n",
       "[325 rows x 7 columns]"
      ]
     },
     "execution_count": 199,
     "metadata": {},
     "output_type": "execute_result"
    }
   ],
   "source": [
    "newdata=pd.DataFrame(df)\n",
    "newdata"
   ]
  },
  {
   "cell_type": "code",
   "execution_count": 200,
   "metadata": {},
   "outputs": [
    {
     "data": {
      "text/plain": [
       "0            china\n",
       "3         thailand\n",
       "5         thailand\n",
       "6            japan\n",
       "11     south korea\n",
       "          ...     \n",
       "319        germany\n",
       "320          spain\n",
       "321         norway\n",
       "323         brazil\n",
       "324        england\n",
       "Name: Team_i, Length: 151, dtype: object"
      ]
     },
     "execution_count": 200,
     "metadata": {},
     "output_type": "execute_result"
    }
   ],
   "source": [
    "iwinner=newdata[newdata[\"score_i\"]>newdata[\"score_j\"]][\"Team_i\"]\n",
    "iwinner"
   ]
  },
  {
   "cell_type": "code",
   "execution_count": 201,
   "metadata": {},
   "outputs": [
    {
     "data": {
      "text/plain": [
       "1      philippines\n",
       "2            china\n",
       "4            china\n",
       "9        australia\n",
       "12     south korea\n",
       "          ...     \n",
       "304        austria\n",
       "307       portugal\n",
       "309        england\n",
       "312        denmark\n",
       "322          italy\n",
       "Name: Team_j, Length: 125, dtype: object"
      ]
     },
     "execution_count": 201,
     "metadata": {},
     "output_type": "execute_result"
    }
   ],
   "source": [
    "jwinner=newdata[newdata[\"score_j\"]>newdata[\"score_i\"]][\"Team_j\"]\n",
    "jwinner"
   ]
  },
  {
   "cell_type": "code",
   "execution_count": 202,
   "metadata": {},
   "outputs": [
    {
     "data": {
      "text/plain": [
       "netherlands         10\n",
       "england              9\n",
       "brazil               9\n",
       "united states        8\n",
       "spain                6\n",
       "germany              6\n",
       "sweden               6\n",
       "scotland             5\n",
       "norway               5\n",
       "switzerland          4\n",
       "canada               4\n",
       "australia            4\n",
       "italy                4\n",
       "france               4\n",
       "denmark              3\n",
       "belgium              3\n",
       "austria              3\n",
       "new zealand          3\n",
       "wales                3\n",
       "colombia             3\n",
       "argentina            2\n",
       "japan                2\n",
       "south korea          2\n",
       "finland              2\n",
       "portugal             2\n",
       "cameroon             2\n",
       "czech republic       2\n",
       "iceland              2\n",
       "ukraine              2\n",
       "ireland              2\n",
       "china                2\n",
       "thailand             2\n",
       "papua new guinea     2\n",
       "chile                2\n",
       "russia               2\n",
       "paraguay             2\n",
       "zambia               1\n",
       "new caledonia        1\n",
       "ghana                1\n",
       "serbia               1\n",
       "romania              1\n",
       "tonga                1\n",
       "jamaica              1\n",
       "albania              1\n",
       "slovenia             1\n",
       "nigeria              1\n",
       "poland               1\n",
       "south africa         1\n",
       "venezuela            1\n",
       "belarus              1\n",
       "panama               1\n",
       "costa rica           1\n",
       "mexico               1\n",
       "Name: Team_i, dtype: int64"
      ]
     },
     "execution_count": 202,
     "metadata": {},
     "output_type": "execute_result"
    }
   ],
   "source": [
    "iwinner.value_counts()"
   ]
  },
  {
   "cell_type": "code",
   "execution_count": 203,
   "metadata": {},
   "outputs": [
    {
     "data": {
      "text/plain": [
       "0            china\n",
       "3         thailand\n",
       "5         thailand\n",
       "6            japan\n",
       "11     south korea\n",
       "          ...     \n",
       "304        austria\n",
       "307       portugal\n",
       "309        england\n",
       "312        denmark\n",
       "322          italy\n",
       "Length: 276, dtype: object"
      ]
     },
     "execution_count": 203,
     "metadata": {},
     "output_type": "execute_result"
    }
   ],
   "source": [
    "test=pd.concat([iwinner,jwinner])\n",
    "test"
   ]
  },
  {
   "cell_type": "code",
   "execution_count": 204,
   "metadata": {},
   "outputs": [],
   "source": [
    "x=test.value_counts().sort_values(ascending=False)"
   ]
  },
  {
   "cell_type": "code",
   "execution_count": 205,
   "metadata": {},
   "outputs": [],
   "source": [
    "y=x.reset_index()"
   ]
  },
  {
   "cell_type": "code",
   "execution_count": 206,
   "metadata": {},
   "outputs": [],
   "source": [
    "z=y.iloc[0][\"index\"].title()"
   ]
  },
  {
   "cell_type": "code",
   "execution_count": 209,
   "metadata": {},
   "outputs": [
    {
     "name": "stdout",
     "output_type": "stream",
     "text": [
      "England has won maximum number of games.\n"
     ]
    }
   ],
   "source": [
    "print(z+\" has won maximum number of games.\")"
   ]
  },
  {
   "cell_type": "code",
   "execution_count": null,
   "metadata": {},
   "outputs": [],
   "source": []
  }
 ],
 "metadata": {
  "kernelspec": {
   "display_name": "Python 3",
   "language": "python",
   "name": "python3"
  },
  "language_info": {
   "codemirror_mode": {
    "name": "ipython",
    "version": 3
   },
   "file_extension": ".py",
   "mimetype": "text/x-python",
   "name": "python",
   "nbconvert_exporter": "python",
   "pygments_lexer": "ipython3",
   "version": "3.9.7"
  }
 },
 "nbformat": 4,
 "nbformat_minor": 2
}
