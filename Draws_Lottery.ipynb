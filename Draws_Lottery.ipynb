{
 "cells": [
  {
   "cell_type": "code",
   "execution_count": 332,
   "metadata": {},
   "outputs": [],
   "source": [
    "import pandas as pd"
   ]
  },
  {
   "cell_type": "code",
   "execution_count": 333,
   "metadata": {},
   "outputs": [],
   "source": [
    "df=pd.read_excel(\"Challenge_407_start_file/Draws_Lottery.xlsx\")"
   ]
  },
  {
   "cell_type": "code",
   "execution_count": 334,
   "metadata": {},
   "outputs": [],
   "source": [
    "newdata=df"
   ]
  },
  {
   "cell_type": "code",
   "execution_count": 335,
   "metadata": {},
   "outputs": [
    {
     "name": "stdout",
     "output_type": "stream",
     "text": [
      "<class 'pandas.core.frame.DataFrame'>\n",
      "RangeIndex: 2092 entries, 0 to 2091\n",
      "Data columns (total 16 columns):\n",
      " #   Column                                Non-Null Count  Dtype \n",
      "---  ------                                --------------  ----- \n",
      " 0   Draw ID                               2092 non-null   int64 \n",
      " 1   Draw Date                             2092 non-null   object\n",
      " 2   Winning number1                       2092 non-null   int64 \n",
      " 3   Winning number2                       2092 non-null   int64 \n",
      " 4   Winning number3                       2092 non-null   int64 \n",
      " 5   Winning number4                       2092 non-null   int64 \n",
      " 6   Winning number5                       2092 non-null   int64 \n",
      " 7   Winning number6                       2092 non-null   int64 \n",
      " 8   Matches 6/6                           2092 non-null   int64 \n",
      " 9   Prize won by each player (match 6/6)  2092 non-null   object\n",
      " 10  Matches 5/6                           2092 non-null   int64 \n",
      " 11  Prize won by each player (match 5/6)  2092 non-null   object\n",
      " 12  Matches 4/6                           2092 non-null   int64 \n",
      " 13  Prize won by each player (match 4/6)  2092 non-null   object\n",
      " 14  Accumulated jackpot                   2092 non-null   object\n",
      " 15  Total Accumulated                     2092 non-null   object\n",
      "dtypes: int64(10), object(6)\n",
      "memory usage: 261.6+ KB\n"
     ]
    }
   ],
   "source": [
    "newdata.info()"
   ]
  },
  {
   "cell_type": "markdown",
   "metadata": {},
   "source": [
    "**To find:**\n",
    "\n",
    " just one winner (matched 6 out of 6 numbers) who claimed the entire accumulated jackpot"
   ]
  },
  {
   "cell_type": "code",
   "execution_count": 336,
   "metadata": {},
   "outputs": [
    {
     "data": {
      "text/plain": [
       "364"
      ]
     },
     "execution_count": 336,
     "metadata": {},
     "output_type": "execute_result"
    }
   ],
   "source": [
    "newdata=newdata[newdata[\"Matches 6/6\"]==1]\n",
    "newdata.count()[\"Draw ID\"]"
   ]
  },
  {
   "cell_type": "markdown",
   "metadata": {},
   "source": [
    "There were **364 Winners** (matched 6 out of 6 numbers) who claimed the entire accumulated jackpot"
   ]
  },
  {
   "cell_type": "markdown",
   "metadata": {},
   "source": [
    "Now to Identify the **date** and the **highest jackpot amount** ever won by a single winner who matched 6 out of 6 numbers"
   ]
  },
  {
   "cell_type": "code",
   "execution_count": 337,
   "metadata": {},
   "outputs": [
    {
     "data": {
      "text/plain": [
       "1        2.307.162,23\n",
       "10      15.591.365,07\n",
       "16       6.789.869,08\n",
       "23      18.661.679,61\n",
       "28       5.401.793,60\n",
       "            ...      \n",
       "2080    21.763.750,54\n",
       "2081     2.420.701,10\n",
       "2086    27.364.769,44\n",
       "2087     2.526.635,00\n",
       "2090    20.024.894,84\n",
       "Name: Prize won by each player (match 6/6), Length: 364, dtype: object"
      ]
     },
     "execution_count": 337,
     "metadata": {},
     "output_type": "execute_result"
    }
   ],
   "source": [
    "newdata[\"Prize won by each player (match 6/6)\"]\n",
    "##we have to find the max of this value. Since this is a string data type this has to be converted to Float"
   ]
  },
  {
   "cell_type": "code",
   "execution_count": 338,
   "metadata": {},
   "outputs": [
    {
     "name": "stderr",
     "output_type": "stream",
     "text": [
      "c:\\Users\\divya\\anaconda3\\lib\\site-packages\\pandas\\core\\frame.py:3641: SettingWithCopyWarning: \n",
      "A value is trying to be set on a copy of a slice from a DataFrame.\n",
      "Try using .loc[row_indexer,col_indexer] = value instead\n",
      "\n",
      "See the caveats in the documentation: https://pandas.pydata.org/pandas-docs/stable/user_guide/indexing.html#returning-a-view-versus-a-copy\n",
      "  self[k1] = value[k2]\n"
     ]
    },
    {
     "data": {
      "text/html": [
       "<div>\n",
       "<style scoped>\n",
       "    .dataframe tbody tr th:only-of-type {\n",
       "        vertical-align: middle;\n",
       "    }\n",
       "\n",
       "    .dataframe tbody tr th {\n",
       "        vertical-align: top;\n",
       "    }\n",
       "\n",
       "    .dataframe thead th {\n",
       "        text-align: right;\n",
       "    }\n",
       "</style>\n",
       "<table border=\"1\" class=\"dataframe\">\n",
       "  <thead>\n",
       "    <tr style=\"text-align: right;\">\n",
       "      <th></th>\n",
       "      <th>before</th>\n",
       "      <th>after</th>\n",
       "    </tr>\n",
       "  </thead>\n",
       "  <tbody>\n",
       "    <tr>\n",
       "      <th>1</th>\n",
       "      <td>2.307.162</td>\n",
       "      <td>23</td>\n",
       "    </tr>\n",
       "    <tr>\n",
       "      <th>10</th>\n",
       "      <td>15.591.365</td>\n",
       "      <td>07</td>\n",
       "    </tr>\n",
       "    <tr>\n",
       "      <th>16</th>\n",
       "      <td>6.789.869</td>\n",
       "      <td>08</td>\n",
       "    </tr>\n",
       "    <tr>\n",
       "      <th>23</th>\n",
       "      <td>18.661.679</td>\n",
       "      <td>61</td>\n",
       "    </tr>\n",
       "    <tr>\n",
       "      <th>28</th>\n",
       "      <td>5.401.793</td>\n",
       "      <td>60</td>\n",
       "    </tr>\n",
       "    <tr>\n",
       "      <th>...</th>\n",
       "      <td>...</td>\n",
       "      <td>...</td>\n",
       "    </tr>\n",
       "    <tr>\n",
       "      <th>2080</th>\n",
       "      <td>21.763.750</td>\n",
       "      <td>54</td>\n",
       "    </tr>\n",
       "    <tr>\n",
       "      <th>2081</th>\n",
       "      <td>2.420.701</td>\n",
       "      <td>10</td>\n",
       "    </tr>\n",
       "    <tr>\n",
       "      <th>2086</th>\n",
       "      <td>27.364.769</td>\n",
       "      <td>44</td>\n",
       "    </tr>\n",
       "    <tr>\n",
       "      <th>2087</th>\n",
       "      <td>2.526.635</td>\n",
       "      <td>00</td>\n",
       "    </tr>\n",
       "    <tr>\n",
       "      <th>2090</th>\n",
       "      <td>20.024.894</td>\n",
       "      <td>84</td>\n",
       "    </tr>\n",
       "  </tbody>\n",
       "</table>\n",
       "<p>364 rows × 2 columns</p>\n",
       "</div>"
      ],
      "text/plain": [
       "          before after\n",
       "1      2.307.162    23\n",
       "10    15.591.365    07\n",
       "16     6.789.869    08\n",
       "23    18.661.679    61\n",
       "28     5.401.793    60\n",
       "...          ...   ...\n",
       "2080  21.763.750    54\n",
       "2081   2.420.701    10\n",
       "2086  27.364.769    44\n",
       "2087   2.526.635    00\n",
       "2090  20.024.894    84\n",
       "\n",
       "[364 rows x 2 columns]"
      ]
     },
     "execution_count": 338,
     "metadata": {},
     "output_type": "execute_result"
    }
   ],
   "source": [
    "newdata[[\"before\",\"after\"]]=newdata[\"Prize won by each player (match 6/6)\"].str.split(\",\",expand=True)\n",
    "newdata[[\"before\",\"after\"]]\n",
    "#splitting the data"
   ]
  },
  {
   "cell_type": "code",
   "execution_count": 339,
   "metadata": {},
   "outputs": [
    {
     "name": "stderr",
     "output_type": "stream",
     "text": [
      "C:\\Users\\divya\\AppData\\Local\\Temp/ipykernel_22260/3912435223.py:1: FutureWarning: The default value of regex will change from True to False in a future version. In addition, single character regular expressions will *not* be treated as literal strings when regex=True.\n",
      "  newdata[\"before\"]=newdata[\"before\"].str.replace(\".\",\"\")\n",
      "C:\\Users\\divya\\AppData\\Local\\Temp/ipykernel_22260/3912435223.py:1: SettingWithCopyWarning: \n",
      "A value is trying to be set on a copy of a slice from a DataFrame.\n",
      "Try using .loc[row_indexer,col_indexer] = value instead\n",
      "\n",
      "See the caveats in the documentation: https://pandas.pydata.org/pandas-docs/stable/user_guide/indexing.html#returning-a-view-versus-a-copy\n",
      "  newdata[\"before\"]=newdata[\"before\"].str.replace(\".\",\"\")\n"
     ]
    }
   ],
   "source": [
    "newdata[\"before\"]=newdata[\"before\"].str.replace(\".\",\"\")\n",
    "#removing the points inbetween to make it typ float"
   ]
  },
  {
   "cell_type": "code",
   "execution_count": 340,
   "metadata": {},
   "outputs": [
    {
     "name": "stderr",
     "output_type": "stream",
     "text": [
      "C:\\Users\\divya\\AppData\\Local\\Temp/ipykernel_22260/3211085667.py:1: SettingWithCopyWarning: \n",
      "A value is trying to be set on a copy of a slice from a DataFrame.\n",
      "Try using .loc[row_indexer,col_indexer] = value instead\n",
      "\n",
      "See the caveats in the documentation: https://pandas.pydata.org/pandas-docs/stable/user_guide/indexing.html#returning-a-view-versus-a-copy\n",
      "  newdata[\"Prize won by each player (match 6/6)\"]=newdata[\"before\"]+\".\"+newdata[\"after\"]\n"
     ]
    },
    {
     "data": {
      "text/plain": [
       "1        2307162.23\n",
       "10      15591365.07\n",
       "16       6789869.08\n",
       "23      18661679.61\n",
       "28       5401793.60\n",
       "           ...     \n",
       "2080    21763750.54\n",
       "2081     2420701.10\n",
       "2086    27364769.44\n",
       "2087     2526635.00\n",
       "2090    20024894.84\n",
       "Name: Prize won by each player (match 6/6), Length: 364, dtype: object"
      ]
     },
     "execution_count": 340,
     "metadata": {},
     "output_type": "execute_result"
    }
   ],
   "source": [
    "newdata[\"Prize won by each player (match 6/6)\"]=newdata[\"before\"]+\".\"+newdata[\"after\"]\n",
    "newdata[\"Prize won by each player (match 6/6)\"]\n",
    "#combining the two split columns to get proper number"
   ]
  },
  {
   "cell_type": "code",
   "execution_count": 341,
   "metadata": {},
   "outputs": [
    {
     "name": "stderr",
     "output_type": "stream",
     "text": [
      "C:\\Users\\divya\\AppData\\Local\\Temp/ipykernel_22260/3496673918.py:1: SettingWithCopyWarning: \n",
      "A value is trying to be set on a copy of a slice from a DataFrame.\n",
      "Try using .loc[row_indexer,col_indexer] = value instead\n",
      "\n",
      "See the caveats in the documentation: https://pandas.pydata.org/pandas-docs/stable/user_guide/indexing.html#returning-a-view-versus-a-copy\n",
      "  newdata[\"Prize won by each player (match 6/6)\"]=newdata[\"Prize won by each player (match 6/6)\"].astype(float)\n"
     ]
    }
   ],
   "source": [
    "newdata[\"Prize won by each player (match 6/6)\"]=newdata[\"Prize won by each player (match 6/6)\"].astype(float)\n",
    "#changing the data type to float"
   ]
  },
  {
   "cell_type": "code",
   "execution_count": 342,
   "metadata": {},
   "outputs": [
    {
     "data": {
      "text/plain": [
       "205329753.89"
      ]
     },
     "execution_count": 342,
     "metadata": {},
     "output_type": "execute_result"
    }
   ],
   "source": [
    "newdata[\"Prize won by each player (match 6/6)\"].max()"
   ]
  },
  {
   "cell_type": "code",
   "execution_count": 346,
   "metadata": {},
   "outputs": [
    {
     "data": {
      "text/html": [
       "<div>\n",
       "<style scoped>\n",
       "    .dataframe tbody tr th:only-of-type {\n",
       "        vertical-align: middle;\n",
       "    }\n",
       "\n",
       "    .dataframe tbody tr th {\n",
       "        vertical-align: top;\n",
       "    }\n",
       "\n",
       "    .dataframe thead th {\n",
       "        text-align: right;\n",
       "    }\n",
       "</style>\n",
       "<table border=\"1\" class=\"dataframe\">\n",
       "  <thead>\n",
       "    <tr style=\"text-align: right;\">\n",
       "      <th></th>\n",
       "      <th>Draw Date</th>\n",
       "      <th>Prize won by each player (match 6/6)</th>\n",
       "    </tr>\n",
       "  </thead>\n",
       "  <tbody>\n",
       "    <tr>\n",
       "      <th>1763</th>\n",
       "      <td>25/11/2015</td>\n",
       "      <td>205329753.89</td>\n",
       "    </tr>\n",
       "  </tbody>\n",
       "</table>\n",
       "</div>"
      ],
      "text/plain": [
       "       Draw Date  Prize won by each player (match 6/6)\n",
       "1763  25/11/2015                          205329753.89"
      ]
     },
     "execution_count": 346,
     "metadata": {},
     "output_type": "execute_result"
    }
   ],
   "source": [
    "pd.options.display.float_format = '{:.2f}'.format\n",
    "newdata[newdata[\"Prize won by each player (match 6/6)\"]==newdata[\"Prize won by each player (match 6/6)\"].max()][[\"Draw Date\",\"Prize won by each player (match 6/6)\"]]\n",
    "# we want only the date and amount of highest jackpot amount"
   ]
  },
  {
   "cell_type": "markdown",
   "metadata": {},
   "source": [
    "So the **Higest Jackpot Won** was of amount ***205,329,753.89*** on ***25/11/2015***"
   ]
  },
  {
   "cell_type": "markdown",
   "metadata": {},
   "source": []
  }
 ],
 "metadata": {
  "kernelspec": {
   "display_name": "base",
   "language": "python",
   "name": "python3"
  },
  "language_info": {
   "codemirror_mode": {
    "name": "ipython",
    "version": 3
   },
   "file_extension": ".py",
   "mimetype": "text/x-python",
   "name": "python",
   "nbconvert_exporter": "python",
   "pygments_lexer": "ipython3",
   "version": "3.9.7"
  }
 },
 "nbformat": 4,
 "nbformat_minor": 2
}
